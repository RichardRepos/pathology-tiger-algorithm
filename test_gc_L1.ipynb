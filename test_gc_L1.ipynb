{
 "cells": [
  {
   "cell_type": "code",
   "execution_count": 1,
   "metadata": {},
   "outputs": [],
   "source": [
    "import gcapi  # pip install gcapi\n",
    "\n",
    "your_algorithm_slug = \"nnunet_segmentation_for_detection\"           # <--- CHANGE THIS\n",
    "client = gcapi.Client(token=\"0efc24961ab263566ba64ff87579a2079cffc932b366a977b96976f60ca4a385\")                           # <--- CHANGE THIS, more information about the token please see this link: https://grand-challenge.org/documentation/what-can-gc-api-be-used-for/\n",
    "\n",
    "job = client.run_external_job(\n",
    "    algorithm=your_algorithm_slug,\n",
    "    inputs={\n",
    "        # 104S (from the tils training subset)\n",
    "        \"generic-medical-image\": \"https://grand-challenge.org/api/v1/cases/images/18a9e579-34bd-43b7-ac42-61541fb35156/\",\n",
    "        # 104S_rois (similar rois as expected in L1)  \n",
    "        \"generic-overlay\": \"https://grand-challenge.org/api/v1/cases/images/e676fdaa-719e-4050-81b7-4724fed69c52/\"\n",
    "    }\n",
    ")\n",
    "# More information about gcapi please see this link: https://grand-challenge.org/documentation/grand-challenge-api/"
   ]
  },
  {
   "cell_type": "code",
   "execution_count": 20,
   "metadata": {},
   "outputs": [
    {
     "name": "stdout",
     "output_type": "stream",
     "text": [
      "Queued\n"
     ]
    }
   ],
   "source": [
    "print(job[\"status\"] )"
   ]
  },
  {
   "cell_type": "code",
   "execution_count": 21,
   "metadata": {},
   "outputs": [
    {
     "data": {
      "text/plain": [
       "{'pk': '9876a599-5656-4c37-a398-1f37c87d85ec',\n",
       " 'inputs': [{'interface': 'generic-medical-image',\n",
       "   'value': None,\n",
       "   'file': None,\n",
       "   'image': 'https://grand-challenge.org/api/v1/cases/images/18a9e579-34bd-43b7-ac42-61541fb35156/',\n",
       "   'pk': 1919147},\n",
       "  {'interface': 'generic-overlay',\n",
       "   'value': None,\n",
       "   'file': None,\n",
       "   'image': 'https://grand-challenge.org/api/v1/cases/images/e676fdaa-719e-4050-81b7-4724fed69c52/',\n",
       "   'pk': 1919148}],\n",
       " 'status': 'Queued'}"
      ]
     },
     "execution_count": 21,
     "metadata": {},
     "output_type": "execute_result"
    }
   ],
   "source": [
    "job"
   ]
  },
  {
   "cell_type": "code",
   "execution_count": 22,
   "metadata": {},
   "outputs": [],
   "source": [
    "job2 = client.algorithm_jobs.detail(job[\"pk\"])"
   ]
  },
  {
   "cell_type": "code",
   "execution_count": 23,
   "metadata": {},
   "outputs": [
    {
     "data": {
      "text/plain": [
       "{'pk': '9876a599-5656-4c37-a398-1f37c87d85ec',\n",
       " 'url': 'https://grand-challenge.org/algorithms/nnunet_segmentation_for_detection/jobs/9876a599-5656-4c37-a398-1f37c87d85ec/',\n",
       " 'api_url': 'https://grand-challenge.org/api/v1/algorithms/jobs/9876a599-5656-4c37-a398-1f37c87d85ec/',\n",
       " 'algorithm_image': 'https://grand-challenge.org/api/v1/algorithms/images/c0966089-24c3-4e3e-890f-920bb51492d6/',\n",
       " 'inputs': [{'interface': {'title': 'Generic Medical Image',\n",
       "    'description': '',\n",
       "    'slug': 'generic-medical-image',\n",
       "    'kind': 'Image',\n",
       "    'pk': 1,\n",
       "    'default_value': None,\n",
       "    'super_kind': 'Image',\n",
       "    'relative_path': '',\n",
       "    'overlay_segments': [],\n",
       "    'look_up_table': None},\n",
       "   'value': None,\n",
       "   'file': None,\n",
       "   'image': 'https://grand-challenge.org/api/v1/cases/images/18a9e579-34bd-43b7-ac42-61541fb35156/',\n",
       "   'pk': 1919147},\n",
       "  {'interface': {'title': 'Generic Overlay',\n",
       "    'description': 'An overlay of unknown type. Legacy, please use alternative interfaces.',\n",
       "    'slug': 'generic-overlay',\n",
       "    'kind': 'Heat Map',\n",
       "    'pk': 2,\n",
       "    'default_value': None,\n",
       "    'super_kind': 'Image',\n",
       "    'relative_path': 'images',\n",
       "    'overlay_segments': [],\n",
       "    'look_up_table': None},\n",
       "   'value': None,\n",
       "   'file': None,\n",
       "   'image': 'https://grand-challenge.org/api/v1/cases/images/e676fdaa-719e-4050-81b7-4724fed69c52/',\n",
       "   'pk': 1919148}],\n",
       " 'outputs': [],\n",
       " 'status': 'Failed',\n",
       " 'rendered_result_text': '',\n",
       " 'started_at': '2024-05-29T12:41:14.172294Z',\n",
       " 'completed_at': '2024-05-29T12:45:43.241294Z',\n",
       " 'hanging_protocol': None,\n",
       " 'optional_hanging_protocols': [],\n",
       " 'view_content': {},\n",
       " 'algorithm': 'https://grand-challenge.org/api/v1/algorithms/8d0f1960-bc1e-4d27-9c62-5b4983692f4d/'}"
      ]
     },
     "execution_count": 23,
     "metadata": {},
     "output_type": "execute_result"
    }
   ],
   "source": [
    "job2"
   ]
  },
  {
   "cell_type": "code",
   "execution_count": 24,
   "metadata": {},
   "outputs": [
    {
     "name": "stdout",
     "output_type": "stream",
     "text": [
      "Failed\n"
     ]
    }
   ],
   "source": [
    "print(job2[\"status\"] )"
   ]
  },
  {
   "cell_type": "code",
   "execution_count": null,
   "metadata": {},
   "outputs": [],
   "source": [
    "output = job[\"outputs\"]\n",
    "print(output[\"image\"])"
   ]
  },
  {
   "cell_type": "code",
   "execution_count": null,
   "metadata": {},
   "outputs": [],
   "source": [
    "import gcapi\n",
    "from pathlib import Path\n",
    "from tqdm import tqdm\n",
    "import SimpleITK as sitk\n",
    "import numpy as np\n",
    "import os\n",
    "\n",
    "# loop through job outputs \n",
    "for output in job[\"outputs\"]:\n",
    "\n",
    "    # check whether if output exists\n",
    "    if output[\"image\"] is not None:\n",
    "\n",
    "        # get image details\n",
    "        image_details = client(url=output[\"image\"])\n",
    "\n",
    "        for file in image_details[\"files\"]:\n",
    "\n",
    "            # create the output filename\n",
    "            output_file = Path(input_fname.replace(\".mha\", \"_lobes.mha\"))\n",
    "            if output_file.suffix != \".mha\":\n",
    "                raise ValueError(\"Output file needs to have .mha extension\")\n",
    "            output_file.parent.mkdir(parents=True, exist_ok=True)\n",
    "\n",
    "            with output_file.open(\"wb\") as fp:\n",
    "                # get the image from url and write it \n",
    "                response = client(url = file[\"file\"],follow_redirects=True).content\n",
    "                fp.write(response)\n"
   ]
  }
 ],
 "metadata": {
  "kernelspec": {
   "display_name": "Python 3",
   "language": "python",
   "name": "python3"
  },
  "language_info": {
   "codemirror_mode": {
    "name": "ipython",
    "version": 3
   },
   "file_extension": ".py",
   "mimetype": "text/x-python",
   "name": "python",
   "nbconvert_exporter": "python",
   "pygments_lexer": "ipython3",
   "version": "3.11.9"
  }
 },
 "nbformat": 4,
 "nbformat_minor": 2
}
